{
 "cells": [
  {
   "cell_type": "code",
   "execution_count": 2,
   "id": "259c6761",
   "metadata": {},
   "outputs": [],
   "source": [
    "import pandas as pd\n",
    "import numpy as np\n",
    "import sklearn\n",
    "\n",
    "from sklearn.feature_extraction.text import TfidfVectorizer\n",
    "from sklearn.linear_model import LogisticRegression\n",
    "\n",
    "from sklearn.metrics import classification_report, confusion_matrix, accuracy_score, balanced_accuracy_score\n",
    "\n",
    "import pymorphy2\n",
    "\n",
    "from joblib import dump, load\n",
    "import pickle"
   ]
  },
  {
   "cell_type": "code",
   "execution_count": null,
   "id": "6dbc3070",
   "metadata": {},
   "outputs": [],
   "source": []
  },
  {
   "cell_type": "code",
   "execution_count": 6,
   "id": "d21476b5",
   "metadata": {},
   "outputs": [],
   "source": [
    "df_train = pd.read_csv('/Users/nbold/Desktop/sber/data/df_first.csv', index_col=0)"
   ]
  },
  {
   "cell_type": "code",
   "execution_count": null,
   "id": "64cb8db2",
   "metadata": {},
   "outputs": [],
   "source": []
  },
  {
   "cell_type": "code",
   "execution_count": 8,
   "id": "84cfd86d",
   "metadata": {},
   "outputs": [],
   "source": [
    "STOP_WORDS = ['ипотека', 'ипотеку', 'ипотеке', 'ипотеки', 'в', 'на', 'по', 'под', 'при', 'с']\n",
    "MORPH = pymorphy2.MorphAnalyzer()\n",
    "def get_lem(text):\n",
    "    lemmas = [\n",
    "        MORPH.parse(it)[0].normal_form\n",
    "        for it in text.lower().split()\n",
    "        if it not in STOP_WORDS\n",
    "    ]\n",
    "    return ' '.join(lemmas)"
   ]
  },
  {
   "cell_type": "code",
   "execution_count": null,
   "id": "c612dcb4",
   "metadata": {},
   "outputs": [],
   "source": []
  },
  {
   "cell_type": "code",
   "execution_count": 8,
   "id": "e67e3e8c",
   "metadata": {},
   "outputs": [],
   "source": [
    "df_train['request'] = df_train['request'].apply(lambda value: get_lem(value))"
   ]
  },
  {
   "cell_type": "code",
   "execution_count": null,
   "id": "526797c2",
   "metadata": {},
   "outputs": [],
   "source": []
  },
  {
   "cell_type": "code",
   "execution_count": 9,
   "id": "c742fec3",
   "metadata": {},
   "outputs": [],
   "source": [
    "X_train_text = df_train['request'].values\n",
    "y_train = df_train['label'].values"
   ]
  },
  {
   "cell_type": "code",
   "execution_count": null,
   "id": "c2bb3479",
   "metadata": {},
   "outputs": [],
   "source": []
  },
  {
   "cell_type": "code",
   "execution_count": 10,
   "id": "8fdd49b2",
   "metadata": {},
   "outputs": [],
   "source": [
    "v = TfidfVectorizer(norm=None, max_df=0.8, max_features=500, decode_error='replace')\n",
    "X_train_vector = v.fit_transform(X_train_text)"
   ]
  },
  {
   "cell_type": "code",
   "execution_count": 18,
   "id": "0f692fe7",
   "metadata": {},
   "outputs": [],
   "source": [
    "with open(\"tfidf.model\", 'wb') as fout:\n",
    "    pickle.dump(v, fout)"
   ]
  },
  {
   "cell_type": "code",
   "execution_count": null,
   "id": "c9a961b8",
   "metadata": {},
   "outputs": [],
   "source": []
  },
  {
   "cell_type": "code",
   "execution_count": 11,
   "id": "58f7ee59",
   "metadata": {},
   "outputs": [
    {
     "data": {
      "text/plain": [
       "LogisticRegression(class_weight='balanced', max_iter=10000, n_jobs=-1,\n",
       "                   random_state=64)"
      ]
     },
     "execution_count": 11,
     "metadata": {},
     "output_type": "execute_result"
    }
   ],
   "source": [
    "clf = LogisticRegression(random_state=43, solver='lbfgs',\n",
    "                         max_iter=10000, n_jobs=-1, class_weight='balanced')\n",
    "clf.fit(X_train_vector, y_train);"
   ]
  },
  {
   "cell_type": "code",
   "execution_count": null,
   "id": "db46ab38",
   "metadata": {},
   "outputs": [],
   "source": []
  },
  {
   "cell_type": "code",
   "execution_count": 15,
   "id": "ab3346c9",
   "metadata": {},
   "outputs": [],
   "source": [
    "dump(clf, 'sber.joblib');"
   ]
  },
  {
   "cell_type": "code",
   "execution_count": null,
   "id": "5b2a7c1d",
   "metadata": {},
   "outputs": [],
   "source": []
  },
  {
   "cell_type": "code",
   "execution_count": null,
   "id": "e07c3ebe",
   "metadata": {},
   "outputs": [],
   "source": []
  },
  {
   "cell_type": "code",
   "execution_count": null,
   "id": "dd44dd40",
   "metadata": {},
   "outputs": [],
   "source": []
  },
  {
   "cell_type": "code",
   "execution_count": null,
   "id": "c83ef5b9",
   "metadata": {},
   "outputs": [],
   "source": []
  },
  {
   "cell_type": "code",
   "execution_count": null,
   "id": "d79d4637",
   "metadata": {},
   "outputs": [],
   "source": []
  },
  {
   "cell_type": "code",
   "execution_count": null,
   "id": "0ba5e3aa",
   "metadata": {},
   "outputs": [],
   "source": []
  },
  {
   "cell_type": "code",
   "execution_count": null,
   "id": "e9e49b45",
   "metadata": {},
   "outputs": [],
   "source": []
  }
 ],
 "metadata": {
  "kernelspec": {
   "display_name": "Python 3 (ipykernel)",
   "language": "python",
   "name": "python3"
  },
  "language_info": {
   "codemirror_mode": {
    "name": "ipython",
    "version": 3
   },
   "file_extension": ".py",
   "mimetype": "text/x-python",
   "name": "python",
   "nbconvert_exporter": "python",
   "pygments_lexer": "ipython3",
   "version": "3.9.7"
  }
 },
 "nbformat": 4,
 "nbformat_minor": 5
}
